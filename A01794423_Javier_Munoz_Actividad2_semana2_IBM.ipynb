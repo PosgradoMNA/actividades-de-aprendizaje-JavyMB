{
  "nbformat": 4,
  "nbformat_minor": 0,
  "metadata": {
    "colab": {
      "provenance": [],
      "collapsed_sections": [],
      "authorship_tag": "ABX9TyOcXfAr6mkT0yc+sYpwME9G",
      "include_colab_link": true
    },
    "kernelspec": {
      "name": "python3",
      "display_name": "Python 3"
    },
    "language_info": {
      "name": "python"
    }
  },
  "cells": [
    {
      "cell_type": "markdown",
      "metadata": {
        "id": "view-in-github",
        "colab_type": "text"
      },
      "source": [
        "<a href=\"https://colab.research.google.com/github/PosgradoMNA/actividades-de-aprendizaje-JavyMB/blob/main/A01794423_Javier_Munoz_Actividad2_semana2_IBM.ipynb\" target=\"_parent\"><img src=\"https://colab.research.google.com/assets/colab-badge.svg\" alt=\"Open In Colab\"/></a>"
      ]
    },
    {
      "cell_type": "markdown",
      "source": [
        "# Laboratorios de Modulo 4 (IBM)\n",
        "Alumno: Javier Munoz Barrios\n",
        "\n",
        "Matricula: A01794423\n",
        "\n",
        "Objetivos principales del modulo:\n",
        "\n",
        "\n",
        "\n",
        "\n",
        "*   Abrir archivos\n",
        "*   Escribir archivos\n",
        "*   Cargar datos con Pandas\n",
        "*   Uso de datos con Pandas\n",
        "\n",
        "\n"
      ],
      "metadata": {
        "id": "XnuMBq0Nyd6w"
      }
    },
    {
      "cell_type": "code",
      "source": [
        "# File = open(\"/content/Example1.txt\",\"r\") # El modo w de escribir(write) y \"r\" de leer (read), a para agregar (append)\n",
        "# File.close()\n",
        "\n",
        "with open(\"/content/Example.txt\",\"r\") as File1:\n",
        "  print(\"nombre del archivo\",File1.name)\n",
        "  FirstLine= File1.readline() # tambien puedes especificar los caracteres a usar  readline(16) \n",
        "  print(\"Primera Linea: \",FirstLine)\n",
        "  file_stuff=File1.read() # guarda los valores del archivo en una variable\n",
        "  print(\"Contenido del Archivo dentro del with: \",file_stuff)\n",
        "\n",
        "  # for line in File1:   tambien se puede usar \n",
        "  \n",
        "\n",
        "print(\"Revisar si el archivo fue cerrado? ...\",File1.closed)\n",
        "print(\"Leer el contenido fuera del with: \",file_stuff)"
      ],
      "metadata": {
        "colab": {
          "base_uri": "https://localhost:8080/"
        },
        "id": "6dNN0_LhzG_9",
        "outputId": "28fcb0af-3ca4-4e61-e47d-fadd09240c0b"
      },
      "execution_count": 23,
      "outputs": [
        {
          "output_type": "stream",
          "name": "stdout",
          "text": [
            "nombre del archivo /content/Example.txt\n",
            "Primera Linea:  This is line 1\n",
            "\n",
            "Contenido del Archivo dentro del with:  This is line 2\n",
            "This is line 3\n",
            "Revisar si el archivo fue cerrado? ... True\n",
            "Leer el contenido fuera del with:  This is line 2\n",
            "This is line 3\n"
          ]
        }
      ]
    },
    {
      "cell_type": "code",
      "source": [
        "import urllib.request\n",
        "url = 'https://cf-courses-data.s3.us.cloud-object-storage.appdomain.cloud/IBMDeveloperSkillsNetwork-PY0101EN-SkillsNetwork/labs/Module%204/data/example1.txt'\n",
        "filename = 'Example1.txt'\n",
        "urllib.request.urlretrieve(url, filename)\n",
        "\n",
        "# Download Example file\n",
        "!wget -O /content/Example1.txt https://cf-courses-data.s3.us.cloud-object-storage.appdomain.cloud/IBMDeveloperSkillsNetwork-PY0101EN-SkillsNetwork/labs/Module%204/data/example1.txt\n"
      ],
      "metadata": {
        "colab": {
          "base_uri": "https://localhost:8080/"
        },
        "id": "11MxFHqv22dQ",
        "outputId": "e7b9132b-f225-4b8d-b0e1-d3a25baedab2"
      },
      "execution_count": 28,
      "outputs": [
        {
          "output_type": "stream",
          "name": "stdout",
          "text": [
            "--2022-09-26 03:39:38--  https://cf-courses-data.s3.us.cloud-object-storage.appdomain.cloud/IBMDeveloperSkillsNetwork-PY0101EN-SkillsNetwork/labs/Module%204/data/example1.txt\n",
            "Resolving cf-courses-data.s3.us.cloud-object-storage.appdomain.cloud (cf-courses-data.s3.us.cloud-object-storage.appdomain.cloud)... 198.23.119.245\n",
            "Connecting to cf-courses-data.s3.us.cloud-object-storage.appdomain.cloud (cf-courses-data.s3.us.cloud-object-storage.appdomain.cloud)|198.23.119.245|:443... connected.\n",
            "HTTP request sent, awaiting response... 200 OK\n",
            "Length: 45 [text/plain]\n",
            "Saving to: ‘/content/Example1.txt’\n",
            "\n",
            "/content/Example1.t 100%[===================>]      45  --.-KB/s    in 0s      \n",
            "\n",
            "2022-09-26 03:39:38 (3.70 MB/s) - ‘/content/Example1.txt’ saved [45/45]\n",
            "\n"
          ]
        }
      ]
    },
    {
      "cell_type": "code",
      "source": [
        "# el modo mas basico de leer un archivo \n",
        "example1 = \"Example1.txt\"\n",
        "file1 = open(example1, \"r\")\n",
        "\n",
        "# Podemos ver sus atributos\n",
        "print(\"nombre\",file1.name)\n",
        "print(\"mode\",file1.mode)\n",
        "print(\"closed\",file1.closed)\n",
        "\n",
        "contenido = file1.read()\n",
        "print(\"contenido \", contenido)\n",
        "print(type(contenido)) # el tipo de contenido... \n",
        "\n",
        "# importante de cerrrar el archivo despues de obtener toda la informacion\n",
        "file1.close()\n"
      ],
      "metadata": {
        "colab": {
          "base_uri": "https://localhost:8080/"
        },
        "id": "q2FuUleb4TRD",
        "outputId": "ef09364c-ac0b-4454-f9e1-3448868d99b5"
      },
      "execution_count": 32,
      "outputs": [
        {
          "output_type": "stream",
          "name": "stdout",
          "text": [
            "nombre Example1.txt\n",
            "mode r\n",
            "closed False\n",
            "contenido  This is line 1 \n",
            "This is line 2\n",
            "This is line 3\n",
            "<class 'str'>\n"
          ]
        }
      ]
    },
    {
      "cell_type": "code",
      "source": [
        "# Una mejor forma de abrir un archivo es unsando with\n",
        "\n",
        "with open(example1, \"r\") as file1:\n",
        "    FileContent = file1.read()\n",
        "    print(FileContent)\n",
        "\n",
        "print(\"verificar si el archivo esta cerrado\", file1.closed)\n",
        "print(\"contenido\", FileContent)\n"
      ],
      "metadata": {
        "colab": {
          "base_uri": "https://localhost:8080/"
        },
        "id": "a2N3NcCr4_8j",
        "outputId": "be82ad74-1322-4d16-bf76-04b3afb5cffb"
      },
      "execution_count": 38,
      "outputs": [
        {
          "output_type": "stream",
          "name": "stdout",
          "text": [
            "This is line 1 \n",
            "This is line 2\n",
            "This is line 3\n",
            "verificar si el archivo esta cerrado True\n",
            "contenido This is line 1 \n",
            "This is line 2\n",
            "This is line 3\n"
          ]
        }
      ]
    },
    {
      "cell_type": "code",
      "source": [
        "\n",
        "# otra forma es usando un loop dentro para leer las lineas \n",
        "with open(example1,\"r\") as file1:\n",
        "        i = 0;\n",
        "        for line in file1:\n",
        "            print(\"Iteration\", str(i), \": \", line)\n",
        "            i = i + 1\n",
        "\n"
      ],
      "metadata": {
        "colab": {
          "base_uri": "https://localhost:8080/"
        },
        "id": "A4E5meka6gEg",
        "outputId": "2a98c1b4-cdf1-4d7e-bec9-822775701493"
      },
      "execution_count": 39,
      "outputs": [
        {
          "output_type": "stream",
          "name": "stdout",
          "text": [
            "Iteration 0 :  This is line 1 \n",
            "\n",
            "Iteration 1 :  This is line 2\n",
            "\n",
            "Iteration 2 :  This is line 3\n"
          ]
        }
      ]
    },
    {
      "cell_type": "code",
      "source": [
        "#tambien se puede usar readlines\n",
        "with open(example1, \"r\") as file1:\n",
        "    FileasList = file1.readlines()\n",
        "\n",
        "# despues solo hacer refrencia al index\n",
        "print(FileasList[0],FileasList[1])"
      ],
      "metadata": {
        "colab": {
          "base_uri": "https://localhost:8080/"
        },
        "id": "k0Yp1k8q6h6P",
        "outputId": "9ee8a18c-8185-4cc9-888c-a850b67404f1"
      },
      "execution_count": 40,
      "outputs": [
        {
          "output_type": "stream",
          "name": "stdout",
          "text": [
            "This is line 1 \n",
            " This is line 2\n",
            "\n"
          ]
        }
      ]
    },
    {
      "cell_type": "markdown",
      "source": [
        "##### Wrinting files \n"
      ],
      "metadata": {
        "id": "IMGqDy556tyQ"
      }
    },
    {
      "cell_type": "code",
      "source": [
        "# tambien podemos escribir o crear un archivo usando \"w\" y with statement. \n",
        "with open (\"/content/Example2.txt\",\"w\") as File1:\n",
        "  File1.write(\"This Line A\")"
      ],
      "metadata": {
        "id": "96DfFC747J6K"
      },
      "execution_count": 41,
      "outputs": []
    },
    {
      "cell_type": "code",
      "source": [
        "# por ejemplo escribir de un array a un archivo\n",
        "Lines=[\"This is line A\\n\", \"This is line B\\n\",\"This is line C\\n\"]\n",
        "with open (\"/content/Example2.txt\",\"w\") as File1:\n",
        "  for line in Lines:\n",
        "    File1.write(line)"
      ],
      "metadata": {
        "id": "_1HzuPUN7kEP"
      },
      "execution_count": 42,
      "outputs": []
    },
    {
      "cell_type": "code",
      "source": [],
      "metadata": {
        "id": "wfppyv6c7kX2"
      },
      "execution_count": null,
      "outputs": []
    }
  ]
}