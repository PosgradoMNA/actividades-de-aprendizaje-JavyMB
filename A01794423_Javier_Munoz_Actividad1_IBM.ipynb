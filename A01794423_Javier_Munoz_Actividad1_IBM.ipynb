{
  "cells": [
    {
      "cell_type": "markdown",
      "metadata": {
        "id": "view-in-github",
        "colab_type": "text"
      },
      "source": [
        "<a href=\"https://colab.research.google.com/github/PosgradoMNA/actividades-de-aprendizaje-JavyMB/blob/main/A01794423_Javier_Munoz_Actividad1_IBM.ipynb\" target=\"_parent\"><img src=\"https://colab.research.google.com/assets/colab-badge.svg\" alt=\"Open In Colab\"/></a>"
      ]
    },
    {
      "cell_type": "markdown",
      "metadata": {
        "id": "kBSLwrCDYiBk"
      },
      "source": [
        "# Laboratorios de Modulo 1 "
      ]
    },
    {
      "cell_type": "markdown",
      "metadata": {
        "id": "g4JLMU3NYiBl"
      },
      "source": [
        "<p><b>Alumno:</b> Javier Munoz Barrios</p>\n",
        "<p><b>Matricula:</b> A01794423</p>\n",
        "\n"
      ]
    },
    {
      "cell_type": "code",
      "execution_count": null,
      "metadata": {
        "id": "ouDcI7iiYiBl",
        "outputId": "9c3dcc8b-9d26-4036-9fc2-d64cf3e9a4f5"
      },
      "outputs": [
        {
          "name": "stdout",
          "output_type": "stream",
          "text": [
            "Hello,world\n"
          ]
        }
      ],
      "source": [
        "print(\"Hello,world\") # esto imprime en la consola "
      ]
    },
    {
      "cell_type": "code",
      "execution_count": null,
      "metadata": {
        "id": "SxRFH-IhYiBl"
      },
      "outputs": [],
      "source": [
        "# usando comentario print(\"Hello,world\")  "
      ]
    },
    {
      "cell_type": "markdown",
      "metadata": {
        "id": "IXHTjuvJYiBm"
      },
      "source": [
        "<h4>Types</h4>"
      ]
    },
    {
      "cell_type": "code",
      "execution_count": null,
      "metadata": {
        "id": "Z2dDELxmYiBm",
        "outputId": "0873f340-3a5d-45af-c78c-a8ccd2b449fe"
      },
      "outputs": [
        {
          "data": {
            "text/plain": [
              "float"
            ]
          },
          "execution_count": 7,
          "metadata": {},
          "output_type": "execute_result"
        }
      ],
      "source": [
        "type(12.0) # esto demuestra que tipo de dato es "
      ]
    },
    {
      "cell_type": "markdown",
      "metadata": {
        "id": "TFTYIRdmYiBm"
      },
      "source": [
        "<h3>Expresiones y Variables</h3>"
      ]
    },
    {
      "cell_type": "markdown",
      "metadata": {
        "id": "_NddyMCRYiBm"
      },
      "source": [
        "El valor de x donde x = 3 + 2 * 2"
      ]
    },
    {
      "cell_type": "code",
      "execution_count": null,
      "metadata": {
        "id": "fgk9Mc4QYiBm",
        "outputId": "abfafefd-f833-48bd-f8de-5e698e2f3315"
      },
      "outputs": [
        {
          "data": {
            "text/plain": [
              "7"
            ]
          },
          "execution_count": 10,
          "metadata": {},
          "output_type": "execute_result"
        }
      ],
      "source": [
        "x = 3 + 2 * 2\n",
        "x # 7      usando   3 + (2 * 2)   -->    3 + 4 = 7"
      ]
    },
    {
      "cell_type": "markdown",
      "metadata": {
        "id": "vr4qugamYiBm"
      },
      "source": [
        "Cual es el valor de y donde y = (3 + 2) * 2?"
      ]
    },
    {
      "cell_type": "code",
      "execution_count": null,
      "metadata": {
        "id": "f0d5K3jlYiBm",
        "outputId": "c21b3654-b9ee-4503-c4ec-8a38b8df0f4b"
      },
      "outputs": [
        {
          "data": {
            "text/plain": [
              "10"
            ]
          },
          "execution_count": 9,
          "metadata": {},
          "output_type": "execute_result"
        }
      ],
      "source": [
        "y = (3 + 2) * 2\n",
        "y #10   ahora especifica que  la suma se haga primero   (3 + 2) * 2  = 5 * 2 = 10"
      ]
    },
    {
      "cell_type": "markdown",
      "metadata": {
        "id": "-4KDzqcAYiBn"
      },
      "source": [
        "Cual es el valor de z donde z = x + y?"
      ]
    },
    {
      "cell_type": "code",
      "execution_count": null,
      "metadata": {
        "id": "r-cuhHQUYiBn",
        "outputId": "2d3390d4-7a9c-4189-db07-e9ab1980fced"
      },
      "outputs": [
        {
          "data": {
            "text/plain": [
              "17"
            ]
          },
          "execution_count": 11,
          "metadata": {},
          "output_type": "execute_result"
        }
      ],
      "source": [
        "z= x + y # x=7 y=10\n",
        "z # 17 "
      ]
    },
    {
      "cell_type": "markdown",
      "metadata": {
        "id": "Y3FzQxqPYiBn"
      },
      "source": [
        "<h3>Textos y Strings</h3>"
      ]
    },
    {
      "cell_type": "code",
      "execution_count": null,
      "metadata": {
        "id": "oab_VMaCYiBn",
        "outputId": "f90d9ffa-14e6-4066-e1d1-e4075104ec6b"
      },
      "outputs": [
        {
          "name": "stdout",
          "output_type": "stream",
          "text": [
            "1\n"
          ]
        }
      ],
      "source": [
        "# Cual es el valor de la variable?\n",
        "a = \"1\"\n",
        "print(a) #  \"1\""
      ]
    },
    {
      "cell_type": "code",
      "execution_count": null,
      "metadata": {
        "id": "oOBFUzG5YiBn",
        "outputId": "8ca63ee4-473a-4169-e9fe-497570d8d273"
      },
      "outputs": [
        {
          "name": "stdout",
          "output_type": "stream",
          "text": [
            "2\n"
          ]
        }
      ],
      "source": [
        "# Cual es el valor de la variable ?\n",
        "b = \"2\"\n",
        "print(b)"
      ]
    },
    {
      "cell_type": "markdown",
      "metadata": {
        "id": "7wNi90qBYiBn"
      },
      "source": [
        "What is the value of the variable c after the following code is executed?"
      ]
    },
    {
      "cell_type": "code",
      "execution_count": null,
      "metadata": {
        "id": "0ZI0z_RSYiBo",
        "outputId": "e9a299e7-982d-47e1-c5eb-36bdb04130d2"
      },
      "outputs": [
        {
          "data": {
            "text/plain": [
              "'12'"
            ]
          },
          "execution_count": 17,
          "metadata": {},
          "output_type": "execute_result"
        }
      ],
      "source": [
        "# Cual es el valor de la variable si a=\"1\" y b=\"2\"\n",
        "c = a + b\n",
        "c"
      ]
    },
    {
      "cell_type": "code",
      "execution_count": null,
      "metadata": {
        "id": "a9n1C0bXYiBo",
        "outputId": "97882e65-3c4e-4ebe-c97f-332b1dd375ea"
      },
      "outputs": [
        {
          "name": "stdout",
          "output_type": "stream",
          "text": [
            "ABC\n"
          ]
        }
      ],
      "source": [
        "# Considera la variable \"d\" imprimir los primeros 3 elemetnos\n",
        "d = \"ABCDEFG\"\n",
        "print(d[:3]) # tambien se puede user d[0:3]"
      ]
    },
    {
      "cell_type": "code",
      "execution_count": null,
      "metadata": {
        "id": "IXb-XiG8YiBo",
        "outputId": "1c283928-beaa-48a3-8807-fa3eee281c9f"
      },
      "outputs": [
        {
          "name": "stdout",
          "output_type": "stream",
          "text": [
            "correct\n"
          ]
        }
      ],
      "source": [
        "# Imprimir cada 2ndo elemento \n",
        "e = 'clocrkr1e1c1t'\n",
        "print(e[::2])"
      ]
    },
    {
      "cell_type": "code",
      "execution_count": null,
      "metadata": {
        "id": "2o9SwzN0YiBo",
        "outputId": "0e28c234-d905-4e53-d62b-35cd23195841"
      },
      "outputs": [
        {
          "name": "stdout",
          "output_type": "stream",
          "text": [
            "\\  usando raw \\ \n",
            "\\ un backsplash \\\n"
          ]
        }
      ],
      "source": [
        "# imprimir un cursor contrario\n",
        "print(r\"\\  usando raw \\ \") # usando raw\n",
        "print(\"\\\\ un backsplash \\\\\")"
      ]
    },
    {
      "cell_type": "code",
      "execution_count": null,
      "metadata": {
        "id": "zQMCmLDdYiBo",
        "outputId": "3f82e36f-816d-48e3-ec9c-a80fccf07e07"
      },
      "outputs": [
        {
          "name": "stdout",
          "output_type": "stream",
          "text": [
            "YOU ARE WRONG\n"
          ]
        }
      ],
      "source": [
        "# Convertir a Mayusculas\n",
        "f = \"You are wrong\"\n",
        "print(f.upper())"
      ]
    },
    {
      "cell_type": "code",
      "execution_count": null,
      "metadata": {
        "id": "g_gVfswPYiBo",
        "outputId": "1f81a51e-59c5-487e-e31e-2702834b6636"
      },
      "outputs": [
        {
          "data": {
            "text/plain": [
              "95"
            ]
          },
          "execution_count": 29,
          "metadata": {},
          "output_type": "execute_result"
        }
      ],
      "source": [
        "# uso de find\n",
        "g = \"Mary had a little lamb Little lamb, little lamb Mary had a little lamb \\\n",
        "Its fleece was white as snow And everywhere that Mary went Mary went, Mary went \\\n",
        "Everywhere that Mary went The lamb was sure to go\"\n",
        "g.find(\"snow\")"
      ]
    },
    {
      "cell_type": "code",
      "execution_count": null,
      "metadata": {
        "id": "Tl7R1mCtYiBp",
        "outputId": "954ec9a2-3467-444e-9735-2387a8a65b53"
      },
      "outputs": [
        {
          "name": "stdout",
          "output_type": "stream",
          "text": [
            "before: Mary had a little lamb Little lamb, little lamb Mary had a little lamb Its fleece was white as snow And everywhere that Mary went Mary went, Mary went Everywhere that Mary went The lamb was sure to go\n",
            "after: Bob had a little lamb Little lamb, little lamb Bob had a little lamb Its fleece was white as snow And everywhere that Bob went Bob went, Bob went Everywhere that Bob went The lamb was sure to go\n"
          ]
        }
      ],
      "source": [
        "# remplazar \n",
        "print(\"before:\",g)\n",
        "print(\"after:\",g.replace(\"Mary\",\"Bob\"))"
      ]
    },
    {
      "cell_type": "markdown",
      "metadata": {
        "id": "Ck80lzqlYiBp"
      },
      "source": [
        "# Laboratorio  de Modulo 2 (Tuples,Lists)"
      ]
    },
    {
      "cell_type": "markdown",
      "metadata": {
        "id": "z3wM7I5OYiBp"
      },
      "source": [
        "Considerando los siguientes \"tuples\":"
      ]
    },
    {
      "cell_type": "code",
      "execution_count": null,
      "metadata": {
        "id": "EX1-Eok8YiBp",
        "outputId": "f04defe1-ff75-429e-f892-9525ba266072"
      },
      "outputs": [
        {
          "data": {
            "text/plain": [
              "('pop',\n",
              " 'rock',\n",
              " 'soul',\n",
              " 'hard rock',\n",
              " 'soft rock',\n",
              " 'R&B',\n",
              " 'progressive rock',\n",
              " 'disco')"
            ]
          },
          "execution_count": 22,
          "metadata": {},
          "output_type": "execute_result"
        }
      ],
      "source": [
        "genres_tuple = (\"pop\", \"rock\", \"soul\", \"hard rock\", \"soft rock\", \\\n",
        "                \"R&B\", \"progressive rock\", \"disco\") \n",
        "genres_tuple"
      ]
    },
    {
      "cell_type": "markdown",
      "metadata": {
        "id": "JciQTNNhYiBp"
      },
      "source": [
        " Longitud del \"tuple\""
      ]
    },
    {
      "cell_type": "code",
      "execution_count": null,
      "metadata": {
        "id": "-t3s_5TcYiBp",
        "outputId": "3d0bcfa7-f6df-427c-97d3-6d3fd17bac74"
      },
      "outputs": [
        {
          "data": {
            "text/plain": [
              "8"
            ]
          },
          "execution_count": 23,
          "metadata": {},
          "output_type": "execute_result"
        }
      ],
      "source": [
        "len(genres_tuple)"
      ]
    },
    {
      "cell_type": "code",
      "execution_count": null,
      "metadata": {
        "id": "a_1BlJQ-YiBp",
        "outputId": "1c087203-cdf7-4244-c8d4-e7166deddeb1"
      },
      "outputs": [
        {
          "data": {
            "text/plain": [
              "'hard rock'"
            ]
          },
          "execution_count": 24,
          "metadata": {},
          "output_type": "execute_result"
        }
      ],
      "source": [
        "# Obtener un indice especifico \n",
        "genres_tuple[3]"
      ]
    },
    {
      "cell_type": "code",
      "execution_count": null,
      "metadata": {
        "id": "_Y25N6FwYiBp",
        "outputId": "bf4c3f77-0dc3-472a-8f38-7be3c6d9d871"
      },
      "outputs": [
        {
          "data": {
            "text/plain": [
              "('hard rock', 'soft rock', 'R&B')"
            ]
          },
          "execution_count": 5,
          "metadata": {},
          "output_type": "execute_result"
        }
      ],
      "source": [
        "# obtener rango de indices de un tuple\n",
        "genres_tuple[3:6]"
      ]
    },
    {
      "cell_type": "code",
      "execution_count": null,
      "metadata": {
        "id": "Hx0BAnk8YiBp",
        "outputId": "e84f622d-2269-48ed-a63f-4ccc276b19a2"
      },
      "outputs": [
        {
          "data": {
            "text/plain": [
              "('pop', 'rock')"
            ]
          },
          "execution_count": 7,
          "metadata": {},
          "output_type": "execute_result"
        }
      ],
      "source": [
        "genres_tuple[0:2] # tambien se puede user genres_tuple[:2]"
      ]
    },
    {
      "cell_type": "code",
      "execution_count": null,
      "metadata": {
        "id": "_ETmTBuHYiBp",
        "outputId": "cedf0262-caa1-4d0f-f75e-f2e0123c8323"
      },
      "outputs": [
        {
          "data": {
            "text/plain": [
              "7"
            ]
          },
          "execution_count": 25,
          "metadata": {},
          "output_type": "execute_result"
        }
      ],
      "source": [
        "# Encontrar el index \n",
        "genres_tuple.index(\"disco\")"
      ]
    },
    {
      "cell_type": "code",
      "execution_count": null,
      "metadata": {
        "id": "Dm5ZslFAYiBq",
        "outputId": "a5c41df1-9793-4904-9610-a2adb9e612e1"
      },
      "outputs": [
        {
          "data": {
            "text/plain": [
              "[-5, -3, 1]"
            ]
          },
          "execution_count": 26,
          "metadata": {},
          "output_type": "execute_result"
        }
      ],
      "source": [
        "# Ordenar la lista \n",
        "C_tuple=(-5, 1, -3)\n",
        "D_tuple = sorted(C_tuple) \n",
        "D_tuple"
      ]
    },
    {
      "cell_type": "code",
      "execution_count": null,
      "metadata": {
        "id": "MAZQWJKyYiBq",
        "outputId": "78c4fdc6-bddb-4df3-d8e5-cb396634c6ef"
      },
      "outputs": [
        {
          "data": {
            "text/plain": [
              "['A', 'B', 'C', 'D', 'E']"
            ]
          },
          "execution_count": 27,
          "metadata": {},
          "output_type": "execute_result"
        }
      ],
      "source": [
        "# separar texto por comas en un arreglo\n",
        "to_array =\"A,B,C,D,E\"\n",
        "to_array.split(\",\")"
      ]
    },
    {
      "cell_type": "code",
      "execution_count": null,
      "metadata": {
        "id": "0lp7gfq-YiBq",
        "outputId": "af7ab452-5e2b-4583-daf0-892e48799c3b"
      },
      "outputs": [
        {
          "name": "stdout",
          "output_type": "stream",
          "text": [
            "['A', 'B', 'C', 'D', 'E']\n",
            "list_b[0] = 'a'\n",
            "Los dos deben cambiar:  ['a', 'B', 'C', 'D', 'E'] ['a', 'B', 'C', 'D', 'E']\n"
          ]
        },
        {
          "data": {
            "text/plain": [
              "['a', 'B', 'C', 'D', 'E']"
            ]
          },
          "execution_count": 15,
          "metadata": {},
          "output_type": "execute_result"
        }
      ],
      "source": [
        "\n",
        "list_a = ['A', 'B', 'C', 'D', 'E']\n",
        "print(list_a)\n",
        "list_b = list_a # solo hace una referencia\n",
        "list_b[0] = 'a'\n",
        "print(\"list_b[0] = 'a'\")\n",
        "print('Los dos deben cambiar: ',list_a,list_b)\n",
        "\n",
        "\n",
        "# clone a list \n",
        "list_c = list_a[:] # esto significa que esta clonando \n",
        "list_c"
      ]
    },
    {
      "cell_type": "code",
      "execution_count": null,
      "metadata": {
        "id": "yl_AWWG6YiBq",
        "outputId": "dc5879db-ab65-4c83-dc38-9ab757e89008"
      },
      "outputs": [
        {
          "data": {
            "text/plain": [
              "[1, 'hello', [1, 2, 3], True]"
            ]
          },
          "execution_count": 28,
          "metadata": {},
          "output_type": "execute_result"
        }
      ],
      "source": [
        "# Crear una listas con multiples valores \n",
        "a_list = [1,\"hello\",[1,2,3],True]\n",
        "a_list"
      ]
    },
    {
      "cell_type": "code",
      "execution_count": null,
      "metadata": {
        "id": "opZVPMu5YiBq",
        "outputId": "79ceb973-364d-4d24-9ee1-0e07fd7a7730"
      },
      "outputs": [
        {
          "data": {
            "text/plain": [
              "'hello'"
            ]
          },
          "execution_count": 20,
          "metadata": {},
          "output_type": "execute_result"
        }
      ],
      "source": [
        "# Obtener un indice especifico\n",
        "a_list[1]"
      ]
    },
    {
      "cell_type": "code",
      "execution_count": null,
      "metadata": {
        "id": "XLfP22kPYiBq",
        "outputId": "b22af25e-83cd-4ef7-b0e4-855c27ba048e"
      },
      "outputs": [
        {
          "data": {
            "text/plain": [
              "['hello', [1, 2, 3], True]"
            ]
          },
          "execution_count": 21,
          "metadata": {},
          "output_type": "execute_result"
        }
      ],
      "source": [
        "# indices especificos \n",
        "a_list[1:4]"
      ]
    },
    {
      "cell_type": "code",
      "execution_count": null,
      "metadata": {
        "id": "wNqRD7unYiBq",
        "outputId": "ab304142-8515-4ca9-82b0-dd6bbbbd40bc"
      },
      "outputs": [
        {
          "data": {
            "text/plain": [
              "[1, 'a', 2, 1, 'd']"
            ]
          },
          "execution_count": 29,
          "metadata": {},
          "output_type": "execute_result"
        }
      ],
      "source": [
        "# Concatenar dos listas \n",
        "A=[1,'a']\n",
        "B=[2,1,'d']\n",
        "C = A + B\n",
        "C"
      ]
    },
    {
      "cell_type": "markdown",
      "metadata": {
        "id": "hPO9tBdxYiBr"
      },
      "source": [
        "#### Set\n"
      ]
    },
    {
      "cell_type": "code",
      "execution_count": null,
      "metadata": {
        "id": "TghyZF7AYiBr",
        "outputId": "d93702b3-8195-4239-fc35-d8461c8774e0"
      },
      "outputs": [
        {
          "data": {
            "text/plain": [
              "{'A', 'B', 'C'}"
            ]
          },
          "execution_count": 33,
          "metadata": {},
          "output_type": "execute_result"
        }
      ],
      "source": [
        "# Cast the following list to a set:\n",
        "to_set = ['A','B','C','A','B','C']\n",
        "to_set = set(to_set)\n",
        "to_set"
      ]
    },
    {
      "cell_type": "markdown",
      "metadata": {
        "id": "_6C5iDHnYiBr"
      },
      "source": [
        "#### Agregar elementos a un  Set\n",
        "Add the string 'D' to the set S."
      ]
    },
    {
      "cell_type": "code",
      "execution_count": null,
      "metadata": {
        "id": "ezEKmgnQYiBr",
        "outputId": "80974541-20a1-48ed-b253-8a0fd5c70a2c"
      },
      "outputs": [
        {
          "data": {
            "text/plain": [
              "{'A', 'B', 'C', 'D'}"
            ]
          },
          "execution_count": 27,
          "metadata": {},
          "output_type": "execute_result"
        }
      ],
      "source": [
        "S={'A','B','C'}\n",
        "S.add('D')\n",
        "S"
      ]
    },
    {
      "cell_type": "code",
      "execution_count": null,
      "metadata": {
        "id": "tNCQnwUWYiBr",
        "outputId": "edd876a8-64a9-4866-a8de-2090e338349e"
      },
      "outputs": [
        {
          "data": {
            "text/plain": [
              "{1, 3}"
            ]
          },
          "execution_count": 28,
          "metadata": {},
          "output_type": "execute_result"
        }
      ],
      "source": [
        "# Encontrar la intersecion al set de A y B \n",
        "A={1,2,3,4,5}\n",
        "B={1,3,9, 12}\n",
        "\n",
        "A.intersection(B)"
      ]
    },
    {
      "cell_type": "code",
      "execution_count": null,
      "metadata": {
        "id": "OrZSWP0XYiBr",
        "outputId": "46c14e79-6b2b-48d1-a9af-8e354795ac09"
      },
      "outputs": [
        {
          "data": {
            "text/plain": [
              "{'electronic music', 'house', 'rap'}"
            ]
          },
          "execution_count": 29,
          "metadata": {},
          "output_type": "execute_result"
        }
      ],
      "source": [
        "set(['rap','house','electronic music', 'rap']) # convierte lista a set "
      ]
    },
    {
      "cell_type": "code",
      "execution_count": null,
      "metadata": {
        "id": "n0OSEPMeYiBr",
        "outputId": "32c75468-bceb-4f0d-8c08-65b721ebaae3"
      },
      "outputs": [
        {
          "name": "stdout",
          "output_type": "stream",
          "text": [
            "Sum of A 6\n",
            "Sum of B 3\n"
          ]
        }
      ],
      "source": [
        "# equivalencia \n",
        "A = [1, 2, 2, 1]\n",
        "B = set([1, 2, 2, 1])\n",
        "sum(A) == sum(B)\n",
        "print('Sum of A',sum(A))\n",
        "print('Sum of B',sum(B))"
      ]
    },
    {
      "cell_type": "code",
      "execution_count": null,
      "metadata": {
        "id": "ExwXPYH2YiBr",
        "outputId": "006f589e-1f3c-4e9a-d13e-3f6ad29dbca3"
      },
      "outputs": [
        {
          "data": {
            "text/plain": [
              "{'AC/DC', 'Back in Black', 'The Dark Side of the Moon', 'Thriller'}"
            ]
          },
          "execution_count": 31,
          "metadata": {},
          "output_type": "execute_result"
        }
      ],
      "source": [
        "#  Uso de Union \n",
        "album_set1 = set([\"Thriller\", 'AC/DC', 'Back in Black'])\n",
        "album_set2 = set([ \"AC/DC\", \"Back in Black\", \"The Dark Side of the Moon\"])\n",
        "\n",
        "album_set3 = album_set1.union(album_set2)\n",
        "album_set3"
      ]
    },
    {
      "cell_type": "code",
      "execution_count": null,
      "metadata": {
        "id": "uUgO0RQhYiBr",
        "outputId": "bc301848-d007-4970-d0da-bdb5ab7129ae"
      },
      "outputs": [
        {
          "data": {
            "text/plain": [
              "True"
            ]
          },
          "execution_count": 32,
          "metadata": {},
          "output_type": "execute_result"
        }
      ],
      "source": [
        "album_set1.issubset(album_set3) # Si un objeto es Susbset de otro "
      ]
    },
    {
      "cell_type": "markdown",
      "metadata": {
        "id": "xre2TeYcYiBr"
      },
      "source": [
        "### Diccionarios (Dictionaries)\n"
      ]
    },
    {
      "cell_type": "code",
      "execution_count": null,
      "metadata": {
        "id": "fCkfvzirYiBr",
        "outputId": "67fb8c76-fd3c-4f55-de3c-37f13f6491ef"
      },
      "outputs": [
        {
          "data": {
            "text/plain": [
              "{'The Bodyguard': '1992', 'Saturday Night Fever': '1977'}"
            ]
          },
          "execution_count": 33,
          "metadata": {},
          "output_type": "execute_result"
        }
      ],
      "source": [
        "\n",
        "soundtrack_dic = {\"The Bodyguard\":\"1992\", \"Saturday Night Fever\":\"1977\"}\n",
        "soundtrack_dic "
      ]
    },
    {
      "cell_type": "code",
      "execution_count": null,
      "metadata": {
        "id": "64Bcpa_SYiBr",
        "outputId": "aa3a3ad2-815b-4418-bf02-b35906b5f121"
      },
      "outputs": [
        {
          "data": {
            "text/plain": [
              "dict_keys(['The Bodyguard', 'Saturday Night Fever'])"
            ]
          },
          "execution_count": 34,
          "metadata": {},
          "output_type": "execute_result"
        }
      ],
      "source": [
        "soundtrack_dic.keys() # sus keys "
      ]
    },
    {
      "cell_type": "code",
      "execution_count": null,
      "metadata": {
        "id": "T5rVLS-hYiBr",
        "outputId": "86d1e68c-a114-40f9-f378-655125f9528a"
      },
      "outputs": [
        {
          "data": {
            "text/plain": [
              "dict_values(['1992', '1977'])"
            ]
          },
          "execution_count": 35,
          "metadata": {},
          "output_type": "execute_result"
        }
      ],
      "source": [
        "soundtrack_dic.values() # los valores"
      ]
    },
    {
      "cell_type": "code",
      "execution_count": null,
      "metadata": {
        "id": "qYBXonIUYiBr",
        "outputId": "fe25d9af-5f89-470b-c028-130897742b63"
      },
      "outputs": [
        {
          "data": {
            "text/plain": [
              "65"
            ]
          },
          "execution_count": 36,
          "metadata": {},
          "output_type": "execute_result"
        }
      ],
      "source": [
        "album_sales_dict = {\"The Bodyguard\":50, \"Back in Black\":50, \"Thriller\":65}\n",
        "album_sales_dict['Thriller']"
      ]
    },
    {
      "cell_type": "code",
      "execution_count": null,
      "metadata": {
        "id": "Ag0gNMX0YiBs",
        "outputId": "38249010-51e0-4dbc-e4b8-b3d81e7d478a"
      },
      "outputs": [
        {
          "data": {
            "text/plain": [
              "dict_keys(['The Bodyguard', 'Back in Black', 'Thriller'])"
            ]
          },
          "execution_count": 39,
          "metadata": {},
          "output_type": "execute_result"
        }
      ],
      "source": [
        "album_sales_dict.keys() # imprimir los Keys  "
      ]
    },
    {
      "cell_type": "code",
      "execution_count": null,
      "metadata": {
        "id": "IkdLh7xEYiBs",
        "outputId": "a27b31f0-d2ca-488c-f6f2-3bde5465da89"
      },
      "outputs": [
        {
          "data": {
            "text/plain": [
              "dict_values([50, 50, 65])"
            ]
          },
          "execution_count": 40,
          "metadata": {},
          "output_type": "execute_result"
        }
      ],
      "source": [
        "album_sales_dict.values()"
      ]
    },
    {
      "cell_type": "markdown",
      "metadata": {
        "id": "TtOfHZbMYiBs"
      },
      "source": [
        "# Laboratorio  de Modulo 3 (Conditions, Loops)"
      ]
    },
    {
      "cell_type": "markdown",
      "metadata": {
        "id": "TOAmKU-EYiBs"
      },
      "source": [
        "### Condicionales ( if,else)"
      ]
    },
    {
      "cell_type": "code",
      "execution_count": null,
      "metadata": {
        "id": "EgOmwtkxYiBs",
        "outputId": "b42d542c-d15f-499e-f3c0-6bfb5aec011f"
      },
      "outputs": [
        {
          "name": "stdout",
          "output_type": "stream",
          "text": [
            "This album is amazing\n"
          ]
        }
      ],
      "source": [
        "rating =8.5\n",
        "if rating == 8.5:\n",
        "    print(\"This album is amazing\")\n"
      ]
    },
    {
      "cell_type": "code",
      "execution_count": null,
      "metadata": {
        "id": "Y9_D_pZKYiBs",
        "outputId": "39dd430a-1302-4b00-dc11-fc6c3d8fc3e4"
      },
      "outputs": [
        {
          "name": "stdout",
          "output_type": "stream",
          "text": [
            "This album is amazing\n"
          ]
        }
      ],
      "source": [
        "rating =8.5\n",
        "if rating > 8:\n",
        "    print(\"This album is amazing\")\n",
        "else:\n",
        "    print(\"this album is ok\")"
      ]
    },
    {
      "cell_type": "code",
      "execution_count": null,
      "metadata": {
        "id": "_rmbzVwDYiBs",
        "outputId": "aa040d85-1548-4dbb-a9b1-7bebb98dcb57"
      },
      "outputs": [
        {
          "name": "stdout",
          "output_type": "stream",
          "text": [
            "Album came out in  1991\n"
          ]
        }
      ],
      "source": [
        "# uso de or \n",
        "album_year=1991\n",
        "if album_year < 1980 or album_year == 1991 or album_year == 1993:\n",
        "    print(\"Album came out in \",album_year)"
      ]
    },
    {
      "cell_type": "markdown",
      "metadata": {
        "id": "8bxCOeYGYiBs"
      },
      "source": [
        "### Loops\n"
      ]
    },
    {
      "cell_type": "code",
      "execution_count": null,
      "metadata": {
        "id": "OcwVswW-YiBs",
        "outputId": "fd310f39-db90-4750-957a-2fe55daaa2ca"
      },
      "outputs": [
        {
          "name": "stdout",
          "output_type": "stream",
          "text": [
            "-4\n",
            "-3\n",
            "-2\n",
            "-1\n",
            "0\n",
            "1\n",
            "2\n",
            "3\n",
            "4\n"
          ]
        }
      ],
      "source": [
        "# uso de rangos \n",
        "for i in range(-4,5):\n",
        "    print(i)"
      ]
    },
    {
      "cell_type": "code",
      "execution_count": null,
      "metadata": {
        "id": "Xv0Uov87YiBs",
        "outputId": "9932e867-16c6-46df-8e79-5088eaa635d0"
      },
      "outputs": [
        {
          "name": "stdout",
          "output_type": "stream",
          "text": [
            "rock\n",
            "R&B\n",
            "Soundtrack\n",
            "R&B\n",
            "soul\n",
            "pop\n"
          ]
        }
      ],
      "source": [
        "# loop de una lista \n",
        "Genres=[ 'rock', 'R&B', 'Soundtrack', 'R&B', 'soul', 'pop']\n",
        "G = len(Genres)\n",
        "for g in Genres:\n",
        "    print(g)"
      ]
    },
    {
      "cell_type": "code",
      "execution_count": null,
      "metadata": {
        "id": "FLZs_yjZYiBs",
        "outputId": "2d4d82f7-3ef2-4b5e-e444-626e0f612507"
      },
      "outputs": [
        {
          "name": "stdout",
          "output_type": "stream",
          "text": [
            "red\n",
            "yellow\n",
            "green\n",
            "purple\n",
            "blue\n"
          ]
        }
      ],
      "source": [
        "squares=['red', 'yellow', 'green', 'purple', 'blue']\n",
        "for s in squares:\n",
        "    print(s)"
      ]
    },
    {
      "cell_type": "code",
      "execution_count": null,
      "metadata": {
        "id": "keBAHQgOYiBs",
        "outputId": "8f557e6b-2cdc-4f4a-d7f6-25cbaa9e0135"
      },
      "outputs": [
        {
          "name": "stdout",
          "output_type": "stream",
          "text": [
            "10\n",
            "9.5\n",
            "10\n",
            "8\n",
            "7.5\n"
          ]
        }
      ],
      "source": [
        "# Uso de While ... \n",
        "PlayListRatings = [10, 9.5, 10, 8, 7.5, 5, 10, 10]\n",
        "score = 6;\n",
        "i=0\n",
        "while(i< len(PlayListRatings) and PlayListRatings[i] > score):\n",
        "    print(PlayListRatings[i])\n",
        "    i=i+1"
      ]
    },
    {
      "cell_type": "code",
      "execution_count": null,
      "metadata": {
        "id": "QFobgN18YiBs",
        "outputId": "af6f3c70-1cd4-42d9-df3b-2e840c37001b"
      },
      "outputs": [
        {
          "name": "stdout",
          "output_type": "stream",
          "text": [
            "['orange', 'orange']\n"
          ]
        }
      ],
      "source": [
        "# condiciones dentro de While \n",
        "squares = ['orange', 'orange', 'purple', 'blue ', 'orange']\n",
        "new_squares = []\n",
        "\n",
        "i=0\n",
        "while(i<len(squares) and squares[i] == 'orange'):\n",
        "    new_squares.append(squares[i])\n",
        "    i= i+1\n",
        "    \n",
        "print(new_squares)\n"
      ]
    },
    {
      "cell_type": "markdown",
      "metadata": {
        "id": "b27OR1NxYiBs"
      },
      "source": [
        "### Uso de funciones "
      ]
    },
    {
      "cell_type": "code",
      "execution_count": null,
      "metadata": {
        "id": "yxyIvrMhYiBt",
        "outputId": "d98b1538-af62-4bf1-add3-adc379e22a78"
      },
      "outputs": [
        {
          "data": {
            "text/plain": [
              "2.0"
            ]
          },
          "execution_count": 44,
          "metadata": {},
          "output_type": "execute_result"
        }
      ],
      "source": [
        "# definir funcion que divide\n",
        "def divide(a,b):\n",
        "    return (a / b)\n",
        "\n",
        "divide(4,2)"
      ]
    },
    {
      "cell_type": "code",
      "execution_count": null,
      "metadata": {
        "id": "15pp6_bVYiBt",
        "outputId": "1f145ee8-0ad6-4fc2-8ca3-53be492ea360"
      },
      "outputs": [
        {
          "data": {
            "text/plain": [
              "'aa'"
            ]
          },
          "execution_count": 45,
          "metadata": {},
          "output_type": "execute_result"
        }
      ],
      "source": [
        "def con(a, b):\n",
        "    return (a + b)\n",
        "\n",
        "con(\"a\",\"a\") # se puede sumar dos variables de string "
      ]
    },
    {
      "cell_type": "code",
      "execution_count": null,
      "metadata": {
        "id": "4HbknA-tYiBt",
        "outputId": "a96baf55-8d3f-412b-9563-7e0bc13084d5"
      },
      "outputs": [
        {
          "data": {
            "text/plain": [
              "(1, 2, 3, 4)"
            ]
          },
          "execution_count": 19,
          "metadata": {},
          "output_type": "execute_result"
        }
      ],
      "source": [
        "con((1,2),(3,4)) # concatenar tuples "
      ]
    },
    {
      "cell_type": "markdown",
      "metadata": {
        "id": "AkuSW2NBYiBt"
      },
      "source": [
        "### Object and Classes"
      ]
    },
    {
      "cell_type": "markdown",
      "metadata": {
        "id": "Kcsfdv3yYiBt"
      },
      "source": [
        "#### Usando el ejemplo dado en el laboratio de IBM, podemos crear una clase para el analsis te un Texto.\n",
        "\n",
        "<em style=\"font-size:10;\"> Text Analysis \n",
        "You have been recruited by your friend, a linguistics enthusiast, to create a utility tool that can perform analysis on a given piece of text. Complete the class 'analysedText' with the following methods -\n",
        "\n",
        "Constructor (__init__) - This method should take the argument text, make it lower case, and remove all punctuation. Assume only the following punctuation is used: period (.), exclamation mark (!), comma (,) and question mark (?). Assign this newly formatted text to a new attribute called fmtText.\n",
        "freqAll - This method should create and return dictionary of all unique words in the text, along with the number of times they occur in the text. Each key in the dictionary should be the unique word appearing in the text and the associated value should be the number of times it occurs in the text. Create this dictionary from the fmtText attribute.\n",
        "freqOf - This method should take a word as an argument and return the number of occurrences of that word in fmtText.\n",
        "The skeleton code has been given to you. Docstrings can be ignored for the purpose of the exercise.\n",
        "Hint: Some useful functions are replace(), lower(), split(), count() </em>"
      ]
    },
    {
      "cell_type": "code",
      "execution_count": null,
      "metadata": {
        "id": "TwoYnPXIYiBt"
      },
      "outputs": [],
      "source": [
        "class analysedText(object):\n",
        "    \n",
        "    def __init__ (self, text):\n",
        "\n",
        "        # TODO: Remove the punctuation from <text> and make it lower case.\n",
        "        formated_text = text.replace(\".\",\"\").replace(\",\",\"\").replace(\"?\",\"\").replace(\"!\",\"\")\n",
        "        # TODO: Assign the formatted text to a new attribute called \"fmtText\"\n",
        "        self.fmtText = formated_text.lower()\n",
        "        pass \n",
        "    \n",
        "    def freqAll(self):    \n",
        "\n",
        "        # TODO: Split the text into a list of words  \n",
        "        list_of_words = self.fmtText.split(' ')\n",
        "        # TODO: Create a dictionary with the unique words in the text as keys\n",
        "        frequencyMap = {}\n",
        "        # and the number of times they occur in the text as values\n",
        "        for w in set(list_of_words):\n",
        "            frequencyMap[w]= list_of_words.count(w)\n",
        "        \n",
        "        return frequencyMap  # return the created dictionary\n",
        "    \n",
        "    def freqOf(self, word):\n",
        "        freq = self.freqAll()\n",
        "        # TODO: return the number of occurrences of <word> in <fmtText>\n",
        "        if word in freq:\n",
        "            return freq[word]\n",
        "        else :\n",
        "            return 0"
      ]
    },
    {
      "cell_type": "code",
      "execution_count": null,
      "metadata": {
        "id": "6IAenzZ1YiBt",
        "outputId": "829d55ab-0f50-4e4f-f930-7e11ba16b7ef"
      },
      "outputs": [
        {
          "name": "stdout",
          "output_type": "stream",
          "text": [
            "Constructor: \n",
            "Test Passed\n",
            "freqAll: \n",
            "Test Passed\n",
            "freqOf: \n",
            "Test Passed\n"
          ]
        }
      ],
      "source": [
        "import sys\n",
        "\n",
        "sampleMap = {'eirmod': 1,'sed': 1, 'amet': 2, 'diam': 5, 'consetetur': 1, 'labore': 1, 'tempor': 1, 'dolor': 1, 'magna': 2, 'et': 3, 'nonumy': 1, 'ipsum': 1, 'lorem': 2}\n",
        "\n",
        "def testMsg(passed):\n",
        "    if passed:\n",
        "       return 'Test Passed'\n",
        "    else :\n",
        "       return 'Test Failed'\n",
        "\n",
        "print(\"Constructor: \")\n",
        "try:\n",
        "    samplePassage = analysedText(\"Lorem ipsum dolor! diam amet, consetetur Lorem magna. sed diam nonumy eirmod tempor. diam et labore? et diam magna. et diam amet.\")\n",
        "    print(testMsg(samplePassage.fmtText == \"lorem ipsum dolor diam amet consetetur lorem magna sed diam nonumy eirmod tempor diam et labore et diam magna et diam amet\"))\n",
        "except:\n",
        "    print(\"Error detected. Recheck your function \" )\n",
        "print(\"freqAll: \")\n",
        "try:\n",
        "    wordMap = samplePassage.freqAll()\n",
        "    print(testMsg(wordMap==sampleMap))\n",
        "except:\n",
        "    print(\"Error detected. Recheck your function \" )\n",
        "print(\"freqOf: \")\n",
        "try:\n",
        "    passed = True\n",
        "    for word in sampleMap:\n",
        "        if samplePassage.freqOf(word) != sampleMap[word]:\n",
        "            passed = False\n",
        "            break\n",
        "    print(testMsg(passed))\n",
        "    \n",
        "except:\n",
        "    print(\"Error detected. Recheck your function  \" )\n",
        "    "
      ]
    },
    {
      "cell_type": "markdown",
      "metadata": {
        "id": "CaoYgNLcYiBt"
      },
      "source": [
        "### Manejo de Errores (Exception Handling)"
      ]
    },
    {
      "cell_type": "code",
      "execution_count": null,
      "metadata": {
        "id": "osVZX3xsYiBt",
        "outputId": "f29d58dd-2dd8-457e-d950-48917d521e8d"
      },
      "outputs": [
        {
          "name": "stdout",
          "output_type": "stream",
          "text": [
            "success a= 1.0\n"
          ]
        }
      ],
      "source": [
        "a = 1\n",
        "\n",
        "try:\n",
        "    b = int(input(\"Please enter a number to divide a\"))\n",
        "    a = a/b\n",
        "except ZeroDivisionError:\n",
        "    print(\"The number you provided cant divide 1 because it is 0\")\n",
        "except ValueError:\n",
        "    print(\"You did not provide a number\")\n",
        "except:\n",
        "    print(\"Something went wrong\")\n",
        "else:\n",
        "    print(\"success a=\",a)"
      ]
    },
    {
      "cell_type": "code",
      "execution_count": null,
      "metadata": {
        "id": "cUgOQb-vYiBt",
        "outputId": "e2b50b57-e84a-4601-f9ac-78a5b9a78356"
      },
      "outputs": [
        {
          "name": "stdout",
          "output_type": "stream",
          "text": [
            "The number you provided cant divide 1 because it is 0\n",
            "Processing Complete\n"
          ]
        }
      ],
      "source": [
        "a = 1\n",
        "\n",
        "try:\n",
        "    b = int(input(\"Please enter a number to divide a\"))\n",
        "    a = a/b\n",
        "except ZeroDivisionError:\n",
        "    print(\"The number you provided cant divide 1 because it is 0\")\n",
        "except ValueError:\n",
        "    print(\"You did not provide a number\")\n",
        "except:\n",
        "    print(\"Something went wrong\")\n",
        "else:\n",
        "    print(\"success a=\",a)\n",
        "finally:\n",
        "    print(\"Processing Complete\")"
      ]
    },
    {
      "cell_type": "code",
      "execution_count": null,
      "metadata": {
        "id": "PA_ykvGKYiBt",
        "outputId": "54ccd807-c858-4e6a-af5a-b2976f67454c"
      },
      "outputs": [
        {
          "name": "stdout",
          "output_type": "stream",
          "text": [
            "[3, 2, 1]\n",
            "None\n",
            "[1, 2, 3]\n"
          ]
        }
      ],
      "source": [
        "B = [3,2,1]\n",
        "print(B)\n",
        "print(B.sort())\n",
        "print(B)\n"
      ]
    }
  ],
  "metadata": {
    "kernelspec": {
      "display_name": "Python 3.10.2 64-bit ('3.10.2')",
      "language": "python",
      "name": "python3"
    },
    "language_info": {
      "codemirror_mode": {
        "name": "ipython",
        "version": 3
      },
      "file_extension": ".py",
      "mimetype": "text/x-python",
      "name": "python",
      "nbconvert_exporter": "python",
      "pygments_lexer": "ipython3",
      "version": "3.10.2"
    },
    "orig_nbformat": 4,
    "vscode": {
      "interpreter": {
        "hash": "305062bb0e962ba7247c8dd5f482d875f2fded6380c000c15915d85cad4e365d"
      }
    },
    "colab": {
      "provenance": [],
      "include_colab_link": true
    }
  },
  "nbformat": 4,
  "nbformat_minor": 0
}